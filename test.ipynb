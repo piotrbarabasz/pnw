{
 "cells": [
  {
   "cell_type": "code",
   "execution_count": 5,
   "metadata": {},
   "outputs": [
    {
     "name": "stdout",
     "output_type": "stream",
     "text": [
      "Looking in indexes: https://pypi.org/simple, https://pypi.ngc.nvidia.com\n",
      "Requirement already satisfied: googletrans in c:\\users\\user\\anaconda3\\envs\\yolov5_clone\\lib\\site-packages (3.0.0)\n",
      "Requirement already satisfied: httpx==0.13.3 in c:\\users\\user\\anaconda3\\envs\\yolov5_clone\\lib\\site-packages (from googletrans) (0.13.3)\n",
      "Requirement already satisfied: sniffio in c:\\users\\user\\anaconda3\\envs\\yolov5_clone\\lib\\site-packages (from httpx==0.13.3->googletrans) (1.3.1)\n",
      "Requirement already satisfied: rfc3986<2,>=1.3 in c:\\users\\user\\anaconda3\\envs\\yolov5_clone\\lib\\site-packages (from httpx==0.13.3->googletrans) (1.5.0)\n",
      "Requirement already satisfied: httpcore==0.9.* in c:\\users\\user\\anaconda3\\envs\\yolov5_clone\\lib\\site-packages (from httpx==0.13.3->googletrans) (0.9.1)\n",
      "Requirement already satisfied: hstspreload in c:\\users\\user\\anaconda3\\envs\\yolov5_clone\\lib\\site-packages (from httpx==0.13.3->googletrans) (2024.6.1)\n",
      "Requirement already satisfied: certifi in c:\\users\\user\\anaconda3\\envs\\yolov5_clone\\lib\\site-packages (from httpx==0.13.3->googletrans) (2022.6.15)\n",
      "Collecting idna==2.*\n",
      "  Downloading idna-2.10-py2.py3-none-any.whl (58 kB)\n",
      "     ---------------------------------------- 58.8/58.8 kB 1.6 MB/s eta 0:00:00\n",
      "Requirement already satisfied: chardet==3.* in c:\\users\\user\\anaconda3\\envs\\yolov5_clone\\lib\\site-packages (from httpx==0.13.3->googletrans) (3.0.4)\n",
      "Requirement already satisfied: h2==3.* in c:\\users\\user\\anaconda3\\envs\\yolov5_clone\\lib\\site-packages (from httpcore==0.9.*->httpx==0.13.3->googletrans) (3.2.0)\n",
      "Requirement already satisfied: h11<0.10,>=0.8 in c:\\users\\user\\anaconda3\\envs\\yolov5_clone\\lib\\site-packages (from httpcore==0.9.*->httpx==0.13.3->googletrans) (0.9.0)\n",
      "Requirement already satisfied: hyperframe<6,>=5.2.0 in c:\\users\\user\\anaconda3\\envs\\yolov5_clone\\lib\\site-packages (from h2==3.*->httpcore==0.9.*->httpx==0.13.3->googletrans) (5.2.0)\n",
      "Requirement already satisfied: hpack<4,>=3.0 in c:\\users\\user\\anaconda3\\envs\\yolov5_clone\\lib\\site-packages (from h2==3.*->httpcore==0.9.*->httpx==0.13.3->googletrans) (3.0.0)\n",
      "Installing collected packages: idna\n",
      "  Attempting uninstall: idna\n",
      "    Found existing installation: idna 3.3\n",
      "    Uninstalling idna-3.3:\n",
      "      Successfully uninstalled idna-3.3\n",
      "Successfully installed idna-2.10\n"
     ]
    },
    {
     "name": "stderr",
     "output_type": "stream",
     "text": [
      "\n",
      "[notice] A new release of pip available: 22.2.2 -> 24.0\n",
      "[notice] To update, run: python.exe -m pip install --upgrade pip\n"
     ]
    }
   ],
   "source": [
    "!pip install googletrans"
   ]
  },
  {
   "cell_type": "code",
   "execution_count": 2,
   "metadata": {
    "collapsed": true
   },
   "outputs": [
    {
     "name": "stdout",
     "output_type": "stream",
     "text": [
      "   ID                                        TITLE  \\\n",
      "0   1  Reconstructing Subject-Specific Effect Maps   \n",
      "\n",
      "                                            ABSTRACT  Computer Science  \\\n",
      "0    Predictive models allow subject-specific inf...                 1   \n",
      "\n",
      "   Physics  Mathematics  Statistics  Quantitative Biology  \\\n",
      "0        0            0           0                     0   \n",
      "\n",
      "   Quantitative Finance  \n",
      "0                     0  \n",
      "object\n",
      "object\n"
     ]
    }
   ],
   "source": [
    "import pandas as pd\n",
    "from googletrans import Translator\n",
    "import time\n",
    "\n",
    "# Initialize the translator\n",
    "translator = Translator()\n",
    "\n",
    "# Load the CSV file\n",
    "input_file = 'train.csv'\n",
    "output_file = 'translated_train.csv'\n",
    "test_file = 'test.csv'\n",
    "# Read the entire CSV file\n",
    "df = pd.read_csv(input_file)\n",
    "\n",
    "# Create a test dataset with rows from 2nd to 12th\n",
    "test_df = df.iloc[0:1]\n",
    "\n",
    "# Save the test dataset to a new CSV file\n",
    "test_df.to_csv(test_file, index=False)\n",
    "print(test_df['TITLE'].dtype)\n",
    "print(test_df['ABSTRACT'].dtype)"
   ]
  },
  {
   "cell_type": "code",
   "execution_count": 4,
   "metadata": {
    "collapsed": false,
    "pycharm": {
     "name": "#%%\n"
    }
   },
   "outputs": [
    {
     "data": {
      "text/plain": [
       "0      Predictive models allow subject-specific inf...\n",
       "Name: ABSTRACT, dtype: object"
      ]
     },
     "execution_count": 4,
     "metadata": {},
     "output_type": "execute_result"
    }
   ],
   "source": [
    "test_df['ABSTRACT']\n",
    "\n",
    "\n"
   ]
  },
  {
   "cell_type": "code",
   "execution_count": 9,
   "metadata": {},
   "outputs": [
    {
     "name": "stdout",
     "output_type": "stream",
     "text": [
      "Looking in indexes: https://pypi.org/simple, https://pypi.ngc.nvidia.com"
     ]
    },
    {
     "name": "stderr",
     "output_type": "stream",
     "text": [
      "\n",
      "[notice] A new release of pip available: 22.2.2 -> 24.0\n",
      "[notice] To update, run: python.exe -m pip install --upgrade pip\n"
     ]
    },
    {
     "name": "stdout",
     "output_type": "stream",
     "text": [
      "\n",
      "Collecting deep-translator\n",
      "  Downloading deep_translator-1.11.4-py3-none-any.whl (42 kB)\n",
      "     ---------------------------------------- 42.3/42.3 kB 1.0 MB/s eta 0:00:00\n",
      "Collecting beautifulsoup4<5.0.0,>=4.9.1\n",
      "  Downloading beautifulsoup4-4.12.3-py3-none-any.whl (147 kB)\n",
      "     -------------------------------------- 147.9/147.9 kB 4.4 MB/s eta 0:00:00\n",
      "Requirement already satisfied: requests<3.0.0,>=2.23.0 in c:\\users\\user\\anaconda3\\envs\\yolov5_clone\\lib\\site-packages (from deep-translator) (2.28.1)\n",
      "Collecting soupsieve>1.2\n",
      "  Downloading soupsieve-2.5-py3-none-any.whl (36 kB)\n",
      "Requirement already satisfied: charset-normalizer<3,>=2 in c:\\users\\user\\anaconda3\\envs\\yolov5_clone\\lib\\site-packages (from requests<3.0.0,>=2.23.0->deep-translator) (2.1.1)\n",
      "Requirement already satisfied: urllib3<1.27,>=1.21.1 in c:\\users\\user\\anaconda3\\envs\\yolov5_clone\\lib\\site-packages (from requests<3.0.0,>=2.23.0->deep-translator) (1.26.12)\n",
      "Requirement already satisfied: certifi>=2017.4.17 in c:\\users\\user\\anaconda3\\envs\\yolov5_clone\\lib\\site-packages (from requests<3.0.0,>=2.23.0->deep-translator) (2022.6.15)\n",
      "Requirement already satisfied: idna<4,>=2.5 in c:\\users\\user\\anaconda3\\envs\\yolov5_clone\\lib\\site-packages (from requests<3.0.0,>=2.23.0->deep-translator) (2.10)\n",
      "Installing collected packages: soupsieve, beautifulsoup4, deep-translator\n",
      "Successfully installed beautifulsoup4-4.12.3 deep-translator-1.11.4 soupsieve-2.5\n"
     ]
    }
   ],
   "source": [
    "!pip install deep-translator"
   ]
  },
  {
   "cell_type": "code",
   "execution_count": 10,
   "metadata": {},
   "outputs": [
    {
     "name": "stdout",
     "output_type": "stream",
     "text": [
      "English: Hello, how are you?\n",
      "Polish: Witam, jak się masz?\n"
     ]
    }
   ],
   "source": [
    "from deep_translator import GoogleTranslator\n",
    "\n",
    "# Function to translate text from English to Polish\n",
    "def translate_to_polish(text):\n",
    "    translator = GoogleTranslator(source='en', target='pl')\n",
    "    translation = translator.translate(text)\n",
    "    return translation\n",
    "\n",
    "# Example usage\n",
    "english_text = \"Hello, how are you?\"\n",
    "polish_text = translate_to_polish(english_text)\n",
    "print(f\"English: {english_text}\")\n",
    "print(f\"Polish: {polish_text}\")\n"
   ]
  }
 ],
 "metadata": {
  "kernelspec": {
   "display_name": "yolov5",
   "language": "python",
   "name": "yolov5"
  },
  "language_info": {
   "codemirror_mode": {
    "name": "ipython",
    "version": 3
   },
   "file_extension": ".py",
   "mimetype": "text/x-python",
   "name": "python",
   "nbconvert_exporter": "python",
   "pygments_lexer": "ipython3",
   "version": "3.9.13"
  }
 },
 "nbformat": 4,
 "nbformat_minor": 0
}
