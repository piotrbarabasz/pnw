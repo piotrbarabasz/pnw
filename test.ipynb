{
 "cells": [
  {
   "cell_type": "code",
   "execution_count": null,
   "metadata": {
    "collapsed": true
   },
   "outputs": [],
   "source": [
    "import pandas as pd\n",
    "from googletrans import Translator\n",
    "import time\n",
    "\n",
    "# Initialize the translator\n",
    "translator = Translator()\n",
    "\n",
    "# Load the CSV file\n",
    "input_file = 'train.csv'\n",
    "output_file = 'translated_train.csv'\n",
    "test_file = 'test.csv'\n",
    "# Read the entire CSV file\n",
    "df = pd.read_csv(input_file)\n",
    "\n",
    "# Create a test dataset with rows from 2nd to 12th\n",
    "test_df = df.iloc[0:1]\n",
    "\n",
    "# Save the test dataset to a new CSV file\n",
    "test_df.to_csv(test_file, index=False)\n",
    "print(test_df)\n",
    "print(test_df['TITLE'].dtype)\n",
    "print(test_df['ABSTRACT'].dtype)"
   ]
  },
  {
   "cell_type": "code",
   "execution_count": null,
   "outputs": [],
   "source": [],
   "metadata": {
    "collapsed": false,
    "pycharm": {
     "name": "#%%\n"
    }
   }
  }
 ],
 "metadata": {
  "kernelspec": {
   "display_name": "Python 3",
   "language": "python",
   "name": "python3"
  },
  "language_info": {
   "codemirror_mode": {
    "name": "ipython",
    "version": 2
   },
   "file_extension": ".py",
   "mimetype": "text/x-python",
   "name": "python",
   "nbconvert_exporter": "python",
   "pygments_lexer": "ipython2",
   "version": "2.7.6"
  }
 },
 "nbformat": 4,
 "nbformat_minor": 0
}