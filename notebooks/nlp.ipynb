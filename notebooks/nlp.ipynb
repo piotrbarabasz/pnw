{
 "cells": [
  {
   "cell_type": "code",
   "execution_count": 150,
   "metadata": {
    "collapsed": true
   },
   "outputs": [],
   "source": [
    "import pandas as pd\n",
    "import numpy as np\n",
    "import seaborn as sns\n",
    "import matplotlib.pyplot as plt\n",
    "\n",
    "from sklearn.pipeline import Pipeline\n",
    "from sklearn.model_selection import train_test_split\n",
    "from sklearn.model_selection import StratifiedKFold\n",
    "from sklearn.base import clone\n",
    "\n",
    "# Metrics\n",
    "from sklearn.metrics import f1_score\n",
    "from sklearn.metrics import hamming_loss\n",
    "# from sklearn.metrics import accuracy_score\n",
    "# from sklearn.metrics import recall_score\n",
    "# from sklearn.metrics import precision_score\n",
    "# from sklearn import metrics\n",
    "# from scipy import sparse\n",
    "\n",
    "# Check time\n",
    "import time\n",
    "\n",
    "# Save model\n",
    "import joblib"
   ]
  },
  {
   "cell_type": "code",
   "execution_count": 151,
   "outputs": [
    {
     "name": "stdout",
     "output_type": "stream",
     "text": [
      "Note: you may need to restart the kernel to use updated packages.Looking in indexes: https://pypi.org/simple, https://pypi.ngc.nvidia.com\n",
      "Requirement already satisfied: scikit-multilearn in c:\\users\\user\\anaconda3\\lib\\site-packages (0.2.0)\n",
      "\n"
     ]
    },
    {
     "name": "stderr",
     "output_type": "stream",
     "text": [
      "WARNING: Ignoring invalid distribution -rotobuf (c:\\users\\user\\anaconda3\\lib\\site-packages)\n",
      "WARNING: Ignoring invalid distribution -rotobuf (c:\\users\\user\\anaconda3\\lib\\site-packages)\n",
      "WARNING: Ignoring invalid distribution -rotobuf (c:\\users\\user\\anaconda3\\lib\\site-packages)\n",
      "WARNING: Ignoring invalid distribution -rotobuf (c:\\users\\user\\anaconda3\\lib\\site-packages)\n",
      "\n",
      "[notice] A new release of pip available: 22.2.2 -> 24.2\n",
      "[notice] To update, run: python.exe -m pip install --upgrade pip\n"
     ]
    }
   ],
   "source": [
    "%pip install scikit-multilearn"
   ],
   "metadata": {
    "collapsed": false,
    "pycharm": {
     "name": "#%%\n"
    }
   }
  },
  {
   "cell_type": "code",
   "execution_count": 152,
   "outputs": [],
   "source": [
    "# import nltk\n",
    "# from nltk.corpus import stopwords\n",
    "# from nltk.stem.snowball import SnowballStemmer\n",
    "# import re\n",
    "#\n",
    "# nltk.download('stopwords')\n",
    "#\n",
    "# # Transform\n",
    "# from skmultilearn.problem_transform import BinaryRelevance\n",
    "# from skmultilearn.problem_transform import ClassifierChain\n",
    "# from skmultilearn.problem_transform import LabelPowerset\n",
    "#\n",
    "# # Classifiers\n",
    "# from sklearn.linear_model import LogisticRegression\n",
    "# from sklearn.naive_bayes import MultinomialNB\n",
    "# from sklearn.svm import SVC\n",
    "#\n",
    "# # Vectorize\n",
    "# from sklearn.feature_extraction.text import TfidfVectorizer\n",
    "# from sklearn.feature_extraction.text import CountVectorizer"
   ],
   "metadata": {
    "collapsed": false,
    "pycharm": {
     "name": "#%%\n"
    }
   }
  },
  {
   "cell_type": "code",
   "execution_count": 153,
   "outputs": [],
   "source": [
    "from PycharmProjects.PNW.notebooks import models"
   ],
   "metadata": {
    "collapsed": false,
    "pycharm": {
     "name": "#%%\n"
    }
   }
  },
  {
   "cell_type": "code",
   "execution_count": 154,
   "outputs": [],
   "source": [
    "from PycharmProjects.PNW.notebooks import preprocess"
   ],
   "metadata": {
    "collapsed": false,
    "pycharm": {
     "name": "#%%\n"
    }
   }
  },
  {
   "cell_type": "code",
   "execution_count": 155,
   "outputs": [],
   "source": [
    "path = 'C:/Users/user/PycharmProjects/PNW/notebooks'"
   ],
   "metadata": {
    "collapsed": false,
    "pycharm": {
     "name": "#%%\n"
    }
   }
  },
  {
   "cell_type": "code",
   "execution_count": 156,
   "metadata": {
    "pycharm": {
     "name": "#%%\n"
    }
   },
   "outputs": [
    {
     "data": {
      "text/plain": "   ID                                              TITLE  \\\n0   1        Reconstructing Subject-Specific Effect Maps   \n1   2                 Rotation Invariance Neural Network   \n2   3  Spherical polyharmonics and Poisson kernels fo...   \n3   4  A finite element approximation for the stochas...   \n4   5  Comparative study of Discrete Wavelet Transfor...   \n\n                                            ABSTRACT  Computer Science  \\\n0    Predictive models allow subject-specific inf...                 1   \n1    Rotation invariance and translation invarian...                 1   \n2    We introduce and develop the notion of spher...                 0   \n3    The stochastic Landau--Lifshitz--Gilbert (LL...                 0   \n4    Fourier-transform infra-red (FTIR) spectra o...                 1   \n\n   Physics  Mathematics  Statistics  Quantitative Biology  \\\n0        0            0           0                     0   \n1        0            0           0                     0   \n2        0            1           0                     0   \n3        0            1           0                     0   \n4        0            0           1                     0   \n\n   Quantitative Finance  \n0                     0  \n1                     0  \n2                     0  \n3                     0  \n4                     0  ",
      "text/html": "<div>\n<style scoped>\n    .dataframe tbody tr th:only-of-type {\n        vertical-align: middle;\n    }\n\n    .dataframe tbody tr th {\n        vertical-align: top;\n    }\n\n    .dataframe thead th {\n        text-align: right;\n    }\n</style>\n<table border=\"1\" class=\"dataframe\">\n  <thead>\n    <tr style=\"text-align: right;\">\n      <th></th>\n      <th>ID</th>\n      <th>TITLE</th>\n      <th>ABSTRACT</th>\n      <th>Computer Science</th>\n      <th>Physics</th>\n      <th>Mathematics</th>\n      <th>Statistics</th>\n      <th>Quantitative Biology</th>\n      <th>Quantitative Finance</th>\n    </tr>\n  </thead>\n  <tbody>\n    <tr>\n      <th>0</th>\n      <td>1</td>\n      <td>Reconstructing Subject-Specific Effect Maps</td>\n      <td>Predictive models allow subject-specific inf...</td>\n      <td>1</td>\n      <td>0</td>\n      <td>0</td>\n      <td>0</td>\n      <td>0</td>\n      <td>0</td>\n    </tr>\n    <tr>\n      <th>1</th>\n      <td>2</td>\n      <td>Rotation Invariance Neural Network</td>\n      <td>Rotation invariance and translation invarian...</td>\n      <td>1</td>\n      <td>0</td>\n      <td>0</td>\n      <td>0</td>\n      <td>0</td>\n      <td>0</td>\n    </tr>\n    <tr>\n      <th>2</th>\n      <td>3</td>\n      <td>Spherical polyharmonics and Poisson kernels fo...</td>\n      <td>We introduce and develop the notion of spher...</td>\n      <td>0</td>\n      <td>0</td>\n      <td>1</td>\n      <td>0</td>\n      <td>0</td>\n      <td>0</td>\n    </tr>\n    <tr>\n      <th>3</th>\n      <td>4</td>\n      <td>A finite element approximation for the stochas...</td>\n      <td>The stochastic Landau--Lifshitz--Gilbert (LL...</td>\n      <td>0</td>\n      <td>0</td>\n      <td>1</td>\n      <td>0</td>\n      <td>0</td>\n      <td>0</td>\n    </tr>\n    <tr>\n      <th>4</th>\n      <td>5</td>\n      <td>Comparative study of Discrete Wavelet Transfor...</td>\n      <td>Fourier-transform infra-red (FTIR) spectra o...</td>\n      <td>1</td>\n      <td>0</td>\n      <td>0</td>\n      <td>1</td>\n      <td>0</td>\n      <td>0</td>\n    </tr>\n  </tbody>\n</table>\n</div>"
     },
     "execution_count": 156,
     "metadata": {},
     "output_type": "execute_result"
    }
   ],
   "source": [
    "data = pd.read_csv(f'{path}/data/train.csv')\n",
    "data.head()"
   ]
  },
  {
   "cell_type": "code",
   "execution_count": 157,
   "outputs": [],
   "source": [
    "all_tags = ['Computer Science', 'Physics', 'Mathematics', 'Statistics', 'Quantitative Biology', 'Quantitative Finance']\n",
    "data['Sum'] = data[all_tags].sum(axis=1)"
   ],
   "metadata": {
    "collapsed": false,
    "pycharm": {
     "name": "#%%\n"
    }
   }
  },
  {
   "cell_type": "code",
   "execution_count": 158,
   "outputs": [
    {
     "data": {
      "text/plain": "<Figure size 432x288 with 1 Axes>",
      "image/png": "[encoded data removed]"
     },
     "metadata": {
      "needs_background": "light"
     },
     "output_type": "display_data"
    }
   ],
   "source": [
    "count = {}\n",
    "for tag in all_tags:\n",
    "    count[tag] = data[tag].sum(axis=0)\n",
    "raw_data = {\"category\":list(count.keys()), \"occurances\": list(count.values())}\n",
    "\n",
    "sns.barplot(data=raw_data, x=\"occurances\", y=\"category\",orient=\"h\")\n",
    "plt.show()"
   ],
   "metadata": {
    "collapsed": false,
    "pycharm": {
     "name": "#%%\n"
    }
   }
  },
  {
   "cell_type": "code",
   "execution_count": 159,
   "outputs": [
    {
     "data": {
      "text/plain": "<Figure size 432x288 with 1 Axes>",
      "image/png": "[encoded data removed]"
     },
     "metadata": {
      "needs_background": "light"
     },
     "output_type": "display_data"
    }
   ],
   "source": [
    "occur = data.groupby(['Sum']).size()\n",
    "raw_data_tag_count = {\"category\": list(occur.index), \"occurances\": occur.to_list()}\n",
    "\n",
    "sns.barplot(data=raw_data_tag_count, x=\"occurances\", y=\"category\",orient=\"h\")\n",
    "plt.ylabel('Liczba tagów', fontsize=10)\n",
    "plt.xlabel('Liczba artykułów', fontsize=10)\n",
    "plt.show()"
   ],
   "metadata": {
    "collapsed": false,
    "pycharm": {
     "name": "#%%\n"
    }
   }
  },
  {
   "cell_type": "code",
   "execution_count": 160,
   "outputs": [],
   "source": [
    "data['text'] = data['TITLE'] + ' ' + data['ABSTRACT']\n",
    "data.drop(columns=['TITLE', 'ABSTRACT', 'Sum'], inplace=True)"
   ],
   "metadata": {
    "collapsed": false,
    "pycharm": {
     "name": "#%%\n"
    }
   }
  },
  {
   "cell_type": "code",
   "execution_count": 161,
   "outputs": [
    {
     "data": {
      "text/plain": "   ID  Computer Science  Physics  Mathematics  Statistics  \\\n0   1                 1        0            0           0   \n1   2                 1        0            0           0   \n2   3                 0        0            1           0   \n3   4                 0        0            1           0   \n4   5                 1        0            0           1   \n\n   Quantitative Biology  Quantitative Finance  \\\n0                     0                     0   \n1                     0                     0   \n2                     0                     0   \n3                     0                     0   \n4                     0                     0   \n\n                                                text  \n0  Reconstructing Subject-Specific Effect Maps   ...  \n1  Rotation Invariance Neural Network   Rotation ...  \n2  Spherical polyharmonics and Poisson kernels fo...  \n3  A finite element approximation for the stochas...  \n4  Comparative study of Discrete Wavelet Transfor...  ",
      "text/html": "<div>\n<style scoped>\n    .dataframe tbody tr th:only-of-type {\n        vertical-align: middle;\n    }\n\n    .dataframe tbody tr th {\n        vertical-align: top;\n    }\n\n    .dataframe thead th {\n        text-align: right;\n    }\n</style>\n<table border=\"1\" class=\"dataframe\">\n  <thead>\n    <tr style=\"text-align: right;\">\n      <th></th>\n      <th>ID</th>\n      <th>Computer Science</th>\n      <th>Physics</th>\n      <th>Mathematics</th>\n      <th>Statistics</th>\n      <th>Quantitative Biology</th>\n      <th>Quantitative Finance</th>\n      <th>text</th>\n    </tr>\n  </thead>\n  <tbody>\n    <tr>\n      <th>0</th>\n      <td>1</td>\n      <td>1</td>\n      <td>0</td>\n      <td>0</td>\n      <td>0</td>\n      <td>0</td>\n      <td>0</td>\n      <td>Reconstructing Subject-Specific Effect Maps   ...</td>\n    </tr>\n    <tr>\n      <th>1</th>\n      <td>2</td>\n      <td>1</td>\n      <td>0</td>\n      <td>0</td>\n      <td>0</td>\n      <td>0</td>\n      <td>0</td>\n      <td>Rotation Invariance Neural Network   Rotation ...</td>\n    </tr>\n    <tr>\n      <th>2</th>\n      <td>3</td>\n      <td>0</td>\n      <td>0</td>\n      <td>1</td>\n      <td>0</td>\n      <td>0</td>\n      <td>0</td>\n      <td>Spherical polyharmonics and Poisson kernels fo...</td>\n    </tr>\n    <tr>\n      <th>3</th>\n      <td>4</td>\n      <td>0</td>\n      <td>0</td>\n      <td>1</td>\n      <td>0</td>\n      <td>0</td>\n      <td>0</td>\n      <td>A finite element approximation for the stochas...</td>\n    </tr>\n    <tr>\n      <th>4</th>\n      <td>5</td>\n      <td>1</td>\n      <td>0</td>\n      <td>0</td>\n      <td>1</td>\n      <td>0</td>\n      <td>0</td>\n      <td>Comparative study of Discrete Wavelet Transfor...</td>\n    </tr>\n  </tbody>\n</table>\n</div>"
     },
     "execution_count": 161,
     "metadata": {},
     "output_type": "execute_result"
    }
   ],
   "source": [
    "data.head()"
   ],
   "metadata": {
    "collapsed": false,
    "pycharm": {
     "name": "#%%\n"
    }
   }
  },
  {
   "cell_type": "code",
   "execution_count": 162,
   "outputs": [],
   "source": [
    "# # Removing HTML tags\n",
    "# def clean_html(sentence):\n",
    "#     clean_r = re.compile('<.*?>')\n",
    "#     clean_text = re.sub(clean_r, ' ', str(sentence))\n",
    "#     return clean_text\n",
    "#\n",
    "#\n",
    "# # Removing punctuation or special characters\n",
    "# def clean_punc(sentence):\n",
    "#     cleaned = re.sub(r'[?|!|\\'|\"|#]', r'', sentence)\n",
    "#     cleaned = re.sub(r'[.|,|)|(|\\|/]', r' ', cleaned)\n",
    "#     cleaned = cleaned.strip()\n",
    "#     cleaned = cleaned.replace(\"\\n\", \" \")\n",
    "#     return cleaned\n",
    "#\n",
    "#\n",
    "# # Removing non-alphabetical characters\n",
    "# def keep_alpha(sentence):\n",
    "#     alpha_sent = \"\"\n",
    "#     for word in sentence.split():\n",
    "#         alpha_word = re.sub('[^a-z A-Z]+', ' ', word)\n",
    "#         alpha_sent += alpha_word\n",
    "#         alpha_sent += \" \"\n",
    "#     alpha_sent = alpha_sent.strip()\n",
    "#     return alpha_sent\n",
    "#\n",
    "#\n",
    "# # Removing stop words\n",
    "# stop_words = set(stopwords.words('english'))\n",
    "# stop_words.update(\n",
    "#     ['zero', 'one', 'two', 'three', 'four', 'five', 'six', 'seven', 'eight', 'nine', 'ten', 'may', 'also', 'across',\n",
    "#      'among', 'beside', 'however', 'yet', 'within'])\n",
    "# re_stop_words = re.compile(r\"\\b(\" + \"|\".join(stop_words) + \")\\\\W\", re.I)\n",
    "#\n",
    "#\n",
    "# def remove_stop_words(sentence):\n",
    "#     global re_stop_words\n",
    "#     return re_stop_words.sub(\" \", sentence)\n",
    "#\n",
    "#\n",
    "# # Stemminig words - converting words that mean the same thing to the same word\n",
    "# stemmer = SnowballStemmer(\"english\")\n",
    "#\n",
    "#\n",
    "# def stemming(sentence):\n",
    "#     stem_sentence = \"\"\n",
    "#     for word in sentence.split():\n",
    "#         stem = stemmer.stem(word)\n",
    "#         stem_sentence += stem\n",
    "#         stem_sentence += \" \"\n",
    "#     stem_sentence = stem_sentence.strip()\n",
    "#     return stem_sentence"
   ],
   "metadata": {
    "collapsed": false,
    "pycharm": {
     "name": "#%%\n"
    }
   }
  },
  {
   "cell_type": "code",
   "execution_count": 163,
   "outputs": [],
   "source": [
    "data[\"text\"] = data[\"text\"].str.lower()\n",
    "data['text'] = data['text'].apply(clean_html)\n",
    "data['text'] = data['text'].apply(clean_punc)\n",
    "data['text'] = data['text'].apply(keep_alpha)\n",
    "data['text'] = data['text'].apply(stemming)\n",
    "data['text'] = data['text'].apply(remove_stop_words)"
   ],
   "metadata": {
    "collapsed": false,
    "pycharm": {
     "name": "#%%\n"
    }
   }
  },
  {
   "cell_type": "code",
   "execution_count": 164,
   "outputs": [
    {
     "data": {
      "text/plain": "(20972, 8)"
     },
     "execution_count": 164,
     "metadata": {},
     "output_type": "execute_result"
    }
   ],
   "source": [
    "data.shape"
   ],
   "metadata": {
    "collapsed": false,
    "pycharm": {
     "name": "#%%\n"
    }
   }
  },
  {
   "cell_type": "code",
   "execution_count": 165,
   "outputs": [
    {
     "data": {
      "text/plain": "   ID  Computer Science  Physics  Mathematics  Statistics  \\\n0   1                 1        0            0           0   \n1   2                 1        0            0           0   \n2   3                 0        0            1           0   \n3   4                 0        0            1           0   \n4   5                 1        0            0           1   \n\n   Quantitative Biology  Quantitative Finance  \\\n0                     0                     0   \n1                     0                     0   \n2                     0                     0   \n3                     0                     0   \n4                     0                     0   \n\n                                                text  \n0  reconstruct subject specif effect map predict ...  \n1  rotat invari neural network rotat invari  tran...  \n2  spheric polyharmon  poisson kernel  polyharmon...  \n3   finit element approxim   stochast maxwel land...  \n4  compar studi  discret wavelet transform  wavel...  ",
      "text/html": "<div>\n<style scoped>\n    .dataframe tbody tr th:only-of-type {\n        vertical-align: middle;\n    }\n\n    .dataframe tbody tr th {\n        vertical-align: top;\n    }\n\n    .dataframe thead th {\n        text-align: right;\n    }\n</style>\n<table border=\"1\" class=\"dataframe\">\n  <thead>\n    <tr style=\"text-align: right;\">\n      <th></th>\n      <th>ID</th>\n      <th>Computer Science</th>\n      <th>Physics</th>\n      <th>Mathematics</th>\n      <th>Statistics</th>\n      <th>Quantitative Biology</th>\n      <th>Quantitative Finance</th>\n      <th>text</th>\n    </tr>\n  </thead>\n  <tbody>\n    <tr>\n      <th>0</th>\n      <td>1</td>\n      <td>1</td>\n      <td>0</td>\n      <td>0</td>\n      <td>0</td>\n      <td>0</td>\n      <td>0</td>\n      <td>reconstruct subject specif effect map predict ...</td>\n    </tr>\n    <tr>\n      <th>1</th>\n      <td>2</td>\n      <td>1</td>\n      <td>0</td>\n      <td>0</td>\n      <td>0</td>\n      <td>0</td>\n      <td>0</td>\n      <td>rotat invari neural network rotat invari  tran...</td>\n    </tr>\n    <tr>\n      <th>2</th>\n      <td>3</td>\n      <td>0</td>\n      <td>0</td>\n      <td>1</td>\n      <td>0</td>\n      <td>0</td>\n      <td>0</td>\n      <td>spheric polyharmon  poisson kernel  polyharmon...</td>\n    </tr>\n    <tr>\n      <th>3</th>\n      <td>4</td>\n      <td>0</td>\n      <td>0</td>\n      <td>1</td>\n      <td>0</td>\n      <td>0</td>\n      <td>0</td>\n      <td>finit element approxim   stochast maxwel land...</td>\n    </tr>\n    <tr>\n      <th>4</th>\n      <td>5</td>\n      <td>1</td>\n      <td>0</td>\n      <td>0</td>\n      <td>1</td>\n      <td>0</td>\n      <td>0</td>\n      <td>compar studi  discret wavelet transform  wavel...</td>\n    </tr>\n  </tbody>\n</table>\n</div>"
     },
     "execution_count": 165,
     "metadata": {},
     "output_type": "execute_result"
    }
   ],
   "source": [
    "data.head()"
   ],
   "metadata": {
    "collapsed": false,
    "pycharm": {
     "name": "#%%\n"
    }
   }
  },
  {
   "cell_type": "code",
   "execution_count": 166,
   "outputs": [],
   "source": [
    "# tfidf_BR_MNB = Pipeline([\n",
    "#     ('tfidf', TfidfVectorizer(stop_words='english')),\n",
    "#     ('clf', BinaryRelevance(MultinomialNB())),\n",
    "# ])\n",
    "# tfidf_BR_LR = Pipeline([\n",
    "#     ('tfidf', TfidfVectorizer(stop_words='english')),\n",
    "#     ('clf', BinaryRelevance(LogisticRegression(solver='sag'))),\n",
    "# ])\n",
    "# tfidf_CC_MNB = Pipeline([\n",
    "#     ('tfidf', TfidfVectorizer(stop_words='english')),\n",
    "#     ('clf', ClassifierChain(MultinomialNB())),\n",
    "# ])\n",
    "# tfidf_CC_LR = Pipeline([\n",
    "#     ('tfidf', TfidfVectorizer(stop_words='english')),\n",
    "#     ('clf', ClassifierChain(LogisticRegression(solver='sag'))),\n",
    "# ])\n",
    "# tfidf_LB_MNB = Pipeline([\n",
    "#     ('tfidf', TfidfVectorizer(stop_words='english')),\n",
    "#     ('clf',  LabelPowerset(MultinomialNB())),\n",
    "# ])\n",
    "# tfidf_LB_LR = Pipeline([\n",
    "#     ('tfidf', TfidfVectorizer(stop_words='english')),\n",
    "#     ('clf',  LabelPowerset(LogisticRegression(max_iter=120))),\n",
    "# ])\n",
    "# cv_BR_MNB = Pipeline([\n",
    "#     ('cv', CountVectorizer(stop_words='english')),\n",
    "#     ('clf', BinaryRelevance(MultinomialNB())),\n",
    "# ])\n",
    "# cv_BR_LR = Pipeline([\n",
    "#     ('cv', CountVectorizer(stop_words='english')),\n",
    "#     ('clf', BinaryRelevance(LogisticRegression(solver='sag'))),\n",
    "# ])\n",
    "# cv_CC_MNB = Pipeline([\n",
    "#     ('tfidf', CountVectorizer(stop_words='english')),\n",
    "#     ('clf', ClassifierChain(MultinomialNB())),\n",
    "# ])\n",
    "# cv_CC_LR = Pipeline([\n",
    "#     ('tfidf', CountVectorizer(stop_words='english')),\n",
    "#     ('clf', ClassifierChain(LogisticRegression(solver='sag'))),\n",
    "# ])\n",
    "# cv_LP_MNB = Pipeline([\n",
    "#     ('tfidf', CountVectorizer(stop_words='english')),\n",
    "#     ('clf',  LabelPowerset(MultinomialNB())),\n",
    "# ])\n",
    "# cv_LP_LR = Pipeline([\n",
    "#     ('tfidf', CountVectorizer(stop_words='english')),\n",
    "#     ('clf',  LabelPowerset(LogisticRegression(max_iter=120))),\n",
    "# ])\n",
    "# cv_LP_SVC_lin = Pipeline([\n",
    "#     ('tfidf', CountVectorizer(stop_words='english')),\n",
    "#     ('clf',  (SVC(kernel='linear', C=1, decision_function_shape='ovo'))),\n",
    "# ])"
   ],
   "metadata": {
    "collapsed": false,
    "pycharm": {
     "name": "#%%\n"
    }
   }
  },
  {
   "cell_type": "code",
   "execution_count": 167,
   "outputs": [],
   "source": [
    "# CLASSIFIERS = [\n",
    "#     tfidf_BR_MNB,\n",
    "#     tfidf_BR_LR,\n",
    "#     tfidf_CC_MNB,\n",
    "#     tfidf_CC_LR,\n",
    "#     tfidf_LB_MNB,\n",
    "#     tfidf_LB_LR,\n",
    "#     cv_BR_MNB,\n",
    "#     cv_BR_LR,\n",
    "#     cv_CC_MNB,\n",
    "#     cv_CC_LR,\n",
    "#     cv_LP_MNB,\n",
    "#     cv_LP_LR,\n",
    "#     cv_LP_SVC_lin\n",
    "# ]"
   ],
   "metadata": {
    "collapsed": false,
    "pycharm": {
     "name": "#%%\n"
    }
   }
  },
  {
   "cell_type": "code",
   "execution_count": 168,
   "outputs": [],
   "source": [
    "# CLASSIFIERS_NAMES = [\n",
    "#     'tfidf_BR_MNB',\n",
    "#     'tfidf_BR_LR',\n",
    "#     'tfidf_CC_MNB',\n",
    "#     'tfidf_CC_LR',\n",
    "#     'tfidf_LB_MNB',\n",
    "#     'tfidf_LB_LR',\n",
    "#     'cv_BR_MNB',\n",
    "#     'cv_BR_LR',\n",
    "#     'cv_CC_MNB',\n",
    "#     'cv_CC_LR',\n",
    "#     'cv_LP_MNB',\n",
    "#     'cv_LP_LR',\n",
    "#     'cv_LP_SVC_lin'\n",
    "# ]"
   ],
   "metadata": {
    "collapsed": false,
    "pycharm": {
     "name": "#%%\n"
    }
   }
  },
  {
   "cell_type": "code",
   "execution_count": 169,
   "outputs": [],
   "source": [
    "skf = StratifiedKFold(n_splits=5, random_state=42, shuffle=True)\n",
    "scores = np.zeros(shape=(len(CLASSIFIERS), skf.get_n_splits()))\n",
    "# scores = np.zeros(shape=(len(CLASSIFIERS), skf.get_n_splits() + 1))"
   ],
   "metadata": {
    "collapsed": false,
    "pycharm": {
     "name": "#%%\n"
    }
   }
  },
  {
   "cell_type": "code",
   "execution_count": 170,
   "outputs": [],
   "source": [
    "X = data.loc[:, \"text\"]\n",
    "y = data.loc[:, all_tags]\n",
    "X, X_holdout, y, y_holdout = train_test_split(X, y, test_size=0.2, random_state=42, stratify=y.sum(axis=1))"
   ],
   "metadata": {
    "collapsed": false,
    "pycharm": {
     "name": "#%%\n"
    }
   }
  },
  {
   "cell_type": "code",
   "execution_count": null,
   "outputs": [
    {
     "name": "stdout",
     "output_type": "stream",
     "text": [
      "\n",
      "tfidf_BR_MNB split: 1\n",
      "Accuracy = 0.7063854047890535\n",
      "F1 score = 0.7063854047890535\n",
      "Hamming Loss = 0.10230433055224473\n",
      "Time taken to fit model = 12.523815155029297\n",
      "Best model for tfidf_BR_MNB is from the best split. Saved as tfidf_BR_MNB_1_best_split_model.joblib\n",
      "\n",
      "tfidf_BR_MNB split: 2\n",
      "Accuracy = 0.7147952632329863\n",
      "F1 score = 0.7147952632329863\n",
      "Hamming Loss = 0.09927493047278506\n",
      "Time taken to fit model = 10.821575164794922\n",
      "Best model for tfidf_BR_MNB is from the best split. Saved as tfidf_BR_MNB_1_best_split_model.joblib\n",
      "\n",
      "tfidf_BR_MNB split: 3\n",
      "Accuracy = 0.714876622450435\n",
      "F1 score = 0.714876622450435\n",
      "Hamming Loss = 0.09930452061599603\n",
      "Time taken to fit model = 10.66601037979126\n",
      "Best model for tfidf_BR_MNB is from the best split. Saved as tfidf_BR_MNB_1_best_split_model.joblib\n",
      "\n",
      "tfidf_BR_MNB split: 4\n",
      "Accuracy = 0.7110921258721344\n",
      "F1 score = 0.7110921258721344\n",
      "Hamming Loss = 0.10079483358171883\n",
      "Time taken to fit model = 10.878255367279053\n",
      "Best model for tfidf_BR_MNB is from the best split. Saved as tfidf_BR_MNB_1_best_split_model.joblib\n",
      "\n",
      "tfidf_BR_MNB split: 5\n",
      "Accuracy = 0.7071285427998855\n",
      "F1 score = 0.7071285427998855\n",
      "Hamming Loss = 0.10163934426229508\n",
      "Time taken to fit model = 10.4636869430542\n",
      "Best model for tfidf_BR_MNB is from the best split. Saved as tfidf_BR_MNB_1_best_split_model.joblib\n",
      "\n",
      "tfidf_BR_LR split: 1\n",
      "Accuracy = 0.793541825578439\n",
      "F1 score = 0.793541825578439\n",
      "Hamming Loss = 0.08065156932856575\n",
      "Time taken to fit model = 492.9776015281677\n",
      "Best model for tfidf_BR_LR is from the best split. Saved as tfidf_BR_LR_2_best_split_model.joblib\n"
     ]
    }
   ],
   "source": [
    "for classifier_idx, clf_prot in enumerate(CLASSIFIERS):\n",
    "    best_split_score = -np.inf\n",
    "    best_model = None\n",
    "    split_idx = 0\n",
    "\n",
    "    for train_index, test_index in skf.split(X, y.sum(axis=1)):\n",
    "        X_train, X_test = X.iloc[train_index], X.iloc[test_index]\n",
    "        y_train, y_test = y.iloc[train_index], y.iloc[test_index]\n",
    "\n",
    "        clf = clone(clf_prot)\n",
    "        time_start = time.time()\n",
    "        clf.fit(X_train, y_train)\n",
    "        time_end = time.time()\n",
    "        predictions = clf.predict(X_test)\n",
    "\n",
    "        score = f1_score(y_test, predictions, average=\"micro\")\n",
    "\n",
    "        print(f'\\n{CLASSIFIERS_NAMES[classifier_idx]} split: {split_idx + 1}')\n",
    "        print(f'Accuracy = {score}')\n",
    "        print(f'F1 score = {f1_score(y_test, predictions, average=\"micro\")}')\n",
    "        print(f'Hamming Loss = {hamming_loss(y_test, predictions)}')\n",
    "        print(f'Time taken to fit model = {str(time_end - time_start)}')\n",
    "\n",
    "        if score > best_split_score:\n",
    "            best_split_score = score\n",
    "            best_model = clone(clf)\n",
    "\n",
    "        scores[classifier_idx, split_idx] = score\n",
    "        split_idx += 1\n",
    "\n",
    "    # clf_full_data = clone(clf_prot)\n",
    "    # time_start = time.time()\n",
    "    # clf_full_data.fit(X, y)\n",
    "    # time_end = time.time()\n",
    "    #\n",
    "    # predictions_full = clf_full_data.predict(X)\n",
    "    #\n",
    "    # full_data_score = f1_score(y, predictions_full, average=\"micro\")\n",
    "    #\n",
    "    # print(f'\\n{CLASSIFIERS_NAMES[classifier_idx]} full data training:')\n",
    "    # print(f'Accuracy = {full_data_score}')\n",
    "    # print(f'F1 score = {f1_score(y, predictions_full, average=\"micro\")}')\n",
    "    # print(f'Hamming Loss = {hamming_loss(y, predictions_full)}')\n",
    "    # print(f'Time taken to fit full data model = {str(time_end - time_start)}')\n",
    "    #\n",
    "    # scores[classifier_idx, -1] = full_data_score\n",
    "\n",
    "    # if full_data_score > best_split_score:\n",
    "    #     best_model_filename = f\"{CLASSIFIERS_NAMES[classifier_idx]}_full_data_model.joblib\"\n",
    "    #     joblib.dump(clf_full_data, f'{path}/results/{best_model_filename}')\n",
    "    #     print(f\"Best model for {CLASSIFIERS_NAMES[classifier_idx]} is the full data model. Saved as {best_model_filename}\")\n",
    "    # else:\n",
    "        best_model_filename = f\"{CLASSIFIERS_NAMES[classifier_idx]}_{classifier_idx+1}_best_split_model.joblib\"\n",
    "        joblib.dump(best_model, f'{path}/results/{best_model_filename}')\n",
    "        print(f\"Best model for {CLASSIFIERS_NAMES[classifier_idx]} is from the best split. Saved as {best_model_filename}\")\n"
   ],
   "metadata": {
    "collapsed": false,
    "pycharm": {
     "name": "#%%\n",
     "is_executing": true
    }
   }
  },
  {
   "cell_type": "code",
   "execution_count": null,
   "outputs": [],
   "source": [
    "scores.shape"
   ],
   "metadata": {
    "collapsed": false,
    "pycharm": {
     "name": "#%%\n",
     "is_executing": true
    }
   }
  },
  {
   "cell_type": "code",
   "execution_count": null,
   "outputs": [],
   "source": [
    "np.save(\"scores\", f'{path}/results/{scores}')"
   ],
   "metadata": {
    "collapsed": false,
    "pycharm": {
     "name": "#%%\n",
     "is_executing": true
    }
   }
  },
  {
   "cell_type": "code",
   "execution_count": null,
   "outputs": [],
   "source": [
    "%pip install tabulate"
   ],
   "metadata": {
    "collapsed": false,
    "pycharm": {
     "name": "#%%\n",
     "is_executing": true
    }
   }
  },
  {
   "cell_type": "code",
   "execution_count": null,
   "outputs": [],
   "source": [
    "from tabulate import tabulate\n",
    "from scipy.stats import ttest_rel"
   ],
   "metadata": {
    "collapsed": false,
    "pycharm": {
     "name": "#%%\n",
     "is_executing": true
    }
   }
  },
  {
   "cell_type": "code",
   "execution_count": null,
   "outputs": [],
   "source": [
    "table = tabulate(scores,\n",
    "    tablefmt=\"grid\",\n",
    "    headers=[\n",
    "        \"split 1\",\n",
    "        \"split 2\",\n",
    "        \"split 3\",\n",
    "        \"split 4\",\n",
    "        \"split 5\",\n",
    "        \"full_data\"\n",
    "    ],\n",
    "    showindex=[\n",
    "         'tfidf_BR_MNB',\n",
    "         'tfidf_BR_LR',\n",
    "         'tfidf_CC_MNB',\n",
    "         'tfidf_CC_LR',\n",
    "         'tfidf_LB_MNB',\n",
    "         'tfidf_LB_LR',\n",
    "         'cv_BR_MNB',\n",
    "         'cv_BR_LR',\n",
    "         'cv_CC_MNB',\n",
    "         'cv_CC_LR',\n",
    "         'cv_LP_MNB',\n",
    "         'cv_LP_LR',\n",
    "         'cv_LP_SVC_lin'\n",
    "    ])\n",
    "table"
   ],
   "metadata": {
    "collapsed": false,
    "pycharm": {
     "name": "#%%\n",
     "is_executing": true
    }
   }
  },
  {
   "cell_type": "code",
   "execution_count": null,
   "outputs": [],
   "source": [
    "result = []\n",
    "for classifier_idx in range(scores.shape[0]):\n",
    "    classifier_result = []\n",
    "    for compare_classifier_idx in range(scores.shape[0]):\n",
    "        classifier_result.append(ttest_rel(\n",
    "            scores[classifier_idx, :],\n",
    "            scores[compare_classifier_idx, :]\n",
    "        ))\n",
    "    result.append(classifier_result)\n",
    "\n",
    "result_array = np.array(result)"
   ],
   "metadata": {
    "collapsed": false,
    "pycharm": {
     "name": "#%%\n",
     "is_executing": true
    }
   }
  },
  {
   "cell_type": "code",
   "execution_count": null,
   "outputs": [],
   "source": [
    "table_statistic = tabulate((result_array[:, :, 0]),\n",
    "    tablefmt=\"grid\",\n",
    "    headers=[\n",
    "       'tfidf_BR_MNB',\n",
    "       'tfidf_BR_LR',\n",
    "       'tfidf_CC_MNB',\n",
    "       'tfidf_CC_LR',\n",
    "       'tfidf_LB_MNB',\n",
    "       'tfidf_LB_LR',\n",
    "       'cv_BR_MNB',\n",
    "       'cv_BR_LR',\n",
    "       'cv_CC_MNB',\n",
    "       'cv_CC_LR',\n",
    "       'cv_LP_MNB',\n",
    "       'cv_LP_LR',\n",
    "       'cv_LP_SVC_lin'\n",
    "    ],\n",
    "    showindex=[\n",
    "       'tfidf_BR_MNB',\n",
    "       'tfidf_BR_LR',\n",
    "       'tfidf_CC_MNB',\n",
    "       'tfidf_CC_LR',\n",
    "       'tfidf_LB_MNB',\n",
    "       'tfidf_LB_LR',\n",
    "       'cv_BR_MNB',\n",
    "       'cv_BR_LR',\n",
    "       'cv_CC_MNB',\n",
    "       'cv_CC_LR',\n",
    "       'cv_LP_MNB',\n",
    "       'cv_LP_LR',\n",
    "       'cv_LP_SVC_lin'\n",
    "    ])\n",
    "table_statistic"
   ],
   "metadata": {
    "collapsed": false,
    "pycharm": {
     "name": "#%%\n",
     "is_executing": true
    }
   }
  },
  {
   "cell_type": "code",
   "execution_count": null,
   "outputs": [],
   "source": [
    "table_pvalue = tabulate((result_array[:, :, 1] < 0.05).astype(int),\n",
    "    tablefmt=\"grid\",\n",
    "    headers=[\n",
    "        'tfidf_BR_MNB',\n",
    "        'tfidf_BR_LR',\n",
    "        'tfidf_CC_MNB',\n",
    "        'tfidf_CC_LR',\n",
    "        'tfidf_LB_MNB',\n",
    "        'tfidf_LB_LR',\n",
    "        'cv_BR_MNB',\n",
    "        'cv_BR_LR',\n",
    "        'cv_CC_MNB',\n",
    "        'cv_CC_LR',\n",
    "        'cv_LP_MNB',\n",
    "        'cv_LP_LR',\n",
    "        'cv_LP_SVC_lin'\n",
    "    ],\n",
    "    showindex=[\n",
    "        'tfidf_BR_MNB',\n",
    "        'tfidf_BR_LR',\n",
    "        'tfidf_CC_MNB',\n",
    "        'tfidf_CC_LR',\n",
    "        'tfidf_LB_MNB',\n",
    "        'tfidf_LB_LR',\n",
    "        'cv_BR_MNB',\n",
    "        'cv_BR_LR',\n",
    "        'cv_CC_MNB',\n",
    "        'cv_CC_LR',\n",
    "        'cv_LP_MNB',\n",
    "        'cv_LP_LR',\n",
    "        'cv_LP_SVC_lin'\n",
    "    ])\n",
    "table_pvalue"
   ],
   "metadata": {
    "collapsed": false,
    "pycharm": {
     "name": "#%%\n",
     "is_executing": true
    }
   }
  },
  {
   "cell_type": "code",
   "execution_count": null,
   "outputs": [],
   "source": [],
   "metadata": {
    "collapsed": false,
    "pycharm": {
     "name": "#%%\n",
     "is_executing": true
    }
   }
  },
  {
   "cell_type": "code",
   "execution_count": null,
   "outputs": [],
   "source": [],
   "metadata": {
    "collapsed": false,
    "pycharm": {
     "name": "#%%\n",
     "is_executing": true
    }
   }
  }
 ],
 "metadata": {
  "kernelspec": {
   "display_name": "Python 3 (ipykernel)",
   "language": "python",
   "name": "python3"
  },
  "language_info": {
   "codemirror_mode": {
    "name": "ipython",
    "version": 3
   },
   "file_extension": ".py",
   "mimetype": "text/x-python",
   "name": "python",
   "nbconvert_exporter": "python",
   "pygments_lexer": "ipython3",
   "version": "3.9.12"
  }
 },
 "nbformat": 4,
 "nbformat_minor": 1
}